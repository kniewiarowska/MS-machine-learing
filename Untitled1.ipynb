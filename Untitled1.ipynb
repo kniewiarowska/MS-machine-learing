{
 "cells": [
  {
   "cell_type": "code",
   "execution_count": null,
   "id": "4d83f091-c642-46a2-a7de-29c8449e7a48",
   "metadata": {},
   "outputs": [],
   "source": [
    "from sklearn import cluster, datasets\n",
    "from sklearn.cluster import KMeans\n",
    "import pandas as pd\n",
    "import numpy as np\n",
    "import matplotlib.pyplot as plt\n",
    "from mpl_toolkits.mplot3d import Axes3D\n",
    "from sklearn.model_selection import train_test_split\n",
    "import seaborn as sns\n",
    "from sklearn.metrics import balanced_accuracy_score\n",
    "from sklearn.metrics import precision_score, classification_report\n",
    "from imblearn.over_sampling import SMOTE\n",
    "from imblearn.over_sampling import RandomOverSampler\n",
    "\n",
    "# generating a random dataset with two features\n",
    "df1 = pd.read_csv('unsupervised_data/daily_data_unlabeled.csv')\n",
    "print(df1.head)\n",
    "df1 =df1.drop(columns=df1.columns[0], axis=1)\n",
    "X_train, y_train = generate_data(n_train = 300, train_only = True,\n",
    "                                                   n_features = 2)\n",
    "  \n",
    "# Setting the percentage of outliers\n",
    "outlier_fraction = 0.1\n",
    "  \n",
    "# Storing the outliers and inliners in different numpy arrays\n",
    "X_outliers, X_inliers = get_outliers_inliers(X_train, y_train)\n",
    "n_inliers = len(X_inliers)\n",
    "n_outliers = len(X_outliers)\n",
    "  \n",
    "# Separating the two features\n",
    "f1 = X_train[:, [0]].reshape(-1, 1)\n",
    "f2 = X_train[:, [1]].reshape(-1, 1)"
   ]
  }
 ],
 "metadata": {
  "kernelspec": {
   "display_name": "Python 3 (ipykernel)",
   "language": "python",
   "name": "python3"
  },
  "language_info": {
   "codemirror_mode": {
    "name": "ipython",
    "version": 3
   },
   "file_extension": ".py",
   "mimetype": "text/x-python",
   "name": "python",
   "nbconvert_exporter": "python",
   "pygments_lexer": "ipython3",
   "version": "3.10.11"
  }
 },
 "nbformat": 4,
 "nbformat_minor": 5
}
