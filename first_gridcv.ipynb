{
 "cells": [
  {
   "cell_type": "code",
   "execution_count": 24,
   "id": "aef0c8c4-2eee-42a6-ad3c-ace8f2f3745b",
   "metadata": {},
   "outputs": [],
   "source": [
    "#IMPROVING TREE"
   ]
  },
  {
   "cell_type": "code",
   "execution_count": 29,
   "id": "e3c3ae54-5e96-4ca6-985b-9a8095252045",
   "metadata": {},
   "outputs": [],
   "source": [
    "# Analiza i modyfikacja danych\n",
    "import numpy as np\n",
    "import pandas as pd\n",
    "import matplotlib.pyplot as plt\n",
    "\n",
    "# Ewaluacja\n",
    "import seaborn as sns\n",
    "from matplotlib import pyplot as plt\n",
    "from sklearn.metrics import precision_score, classification_report\n",
    "from sklearn.metrics import recall_score, f1_score, accuracy_score\n",
    "from sklearn.model_selection import train_test_split\n",
    "from sklearn.naive_bayes import GaussianNB\n",
    "# machine learning\n",
    "from sklearn.neighbors import KNeighborsClassifier\n",
    "from sklearn.preprocessing import OneHotEncoder\n",
    "from sklearn.tree import DecisionTreeClassifier\n",
    "from sklearn.ensemble import RandomForestClassifier\n",
    "from sklearn.neural_network import MLPClassifier\n",
    "\n",
    "from imblearn.over_sampling import RandomOverSampler\n",
    "from imblearn.over_sampling import SMOTE, ADASYN\n",
    "from sklearn.metrics import balanced_accuracy_score\n",
    "from sklearn.ensemble import BaggingClassifier\n",
    "from sklearn.tree import DecisionTreeClassifier\n",
    "from sklearn.metrics import confusion_matrix, ConfusionMatrixDisplay\n",
    "from imblearn.ensemble import BalancedBaggingClassifier\n",
    "from sklearn.model_selection import GridSearchCV"
   ]
  },
  {
   "cell_type": "code",
   "execution_count": 26,
   "id": "7911d4dd-0854-4db8-8c23-4b4dd37c3fc6",
   "metadata": {},
   "outputs": [],
   "source": [
    "\n",
    "def read_grouped_data():\n",
    "    df = pd.read_csv('data/final_data.csv')\n",
    "    return df.drop(columns=df.columns[0], axis=1)\n",
    "    \n",
    "def calculate_feeling_rate_distribution(df):\n",
    "    print('DATA:')\n",
    "    count = df.count()[0]\n",
    "    data = []\n",
    "    numbers = df['feeling_rate'].unique()\n",
    "    for i in numbers:\n",
    "        occur = df['feeling_rate'].value_counts()[i]\n",
    "        percent = (occur / count) * 100\n",
    "        value = round(percent, 2)\n",
    "        data.append(value)\n",
    "        print(str(i) + ' ' + str(round(percent, 2)) + '%')\n",
    "        \n",
    "    fig, ax = plt.subplots()\n",
    "    ax.pie(data, labels=numbers, autopct='%1.1f%%')\n",
    "\n",
    "\n",
    "def print_df_information(df):\n",
    "    print(df.head())\n",
    "    print(df.info())\n",
    "    print(df.describe())\n",
    "\n",
    "\n",
    "def change_txt_data(df):\n",
    "    print(df.describe(include=['O']))\n",
    "    categoricals = list(df.select_dtypes(include=['O']).columns)\n",
    "    encoder = OneHotEncoder(sparse_output=False)\n",
    "    encoded = encoder.fit_transform(df[categoricals])\n",
    "    train_ohe = pd.DataFrame(encoded, columns=np.hstack(encoder.categories_))\n",
    "    df = pd.concat((df, train_ohe), axis=1).drop(categoricals, axis=1)\n",
    "    print(df.head())\n",
    "    return df\n"
   ]
  },
  {
   "cell_type": "code",
   "execution_count": 28,
   "id": "f5cb3aae-8083-4eae-8bd5-94bdc7f6198e",
   "metadata": {},
   "outputs": [
    {
     "name": "stdout",
     "output_type": "stream",
     "text": [
      "       time_of_day\n",
      "count         4545\n",
      "unique           6\n",
      "top           Noon\n",
      "freq          1142\n",
      "   steps  heart_rate  raw_intensity  feeling_rate  Early Morning  Evening  \\\n",
      "0      0      115.00          16.00             4            0.0      0.0   \n",
      "1    181       91.98          37.96             4            0.0      0.0   \n",
      "2     65       85.43          36.16             4            0.0      0.0   \n",
      "3     35       87.56          33.18             4            0.0      0.0   \n",
      "4    397       84.00          49.94             4            0.0      0.0   \n",
      "\n",
      "   Late Night  Morning  Night  Noon  \n",
      "0         0.0      1.0    0.0   0.0  \n",
      "1         0.0      0.0    0.0   1.0  \n",
      "2         0.0      0.0    0.0   1.0  \n",
      "3         0.0      0.0    0.0   1.0  \n",
      "4         0.0      0.0    0.0   1.0  \n",
      "DATA:\n",
      "4 64.53%\n",
      "3 21.23%\n",
      "2 3.15%\n",
      "5 8.03%\n",
      "1 3.06%\n",
      "Fitting 5 folds for each of 224 candidates, totalling 1120 fits\n"
     ]
    },
    {
     "data": {
      "text/html": [
       "<style>#sk-container-id-5 {color: black;}#sk-container-id-5 pre{padding: 0;}#sk-container-id-5 div.sk-toggleable {background-color: white;}#sk-container-id-5 label.sk-toggleable__label {cursor: pointer;display: block;width: 100%;margin-bottom: 0;padding: 0.3em;box-sizing: border-box;text-align: center;}#sk-container-id-5 label.sk-toggleable__label-arrow:before {content: \"▸\";float: left;margin-right: 0.25em;color: #696969;}#sk-container-id-5 label.sk-toggleable__label-arrow:hover:before {color: black;}#sk-container-id-5 div.sk-estimator:hover label.sk-toggleable__label-arrow:before {color: black;}#sk-container-id-5 div.sk-toggleable__content {max-height: 0;max-width: 0;overflow: hidden;text-align: left;background-color: #f0f8ff;}#sk-container-id-5 div.sk-toggleable__content pre {margin: 0.2em;color: black;border-radius: 0.25em;background-color: #f0f8ff;}#sk-container-id-5 input.sk-toggleable__control:checked~div.sk-toggleable__content {max-height: 200px;max-width: 100%;overflow: auto;}#sk-container-id-5 input.sk-toggleable__control:checked~label.sk-toggleable__label-arrow:before {content: \"▾\";}#sk-container-id-5 div.sk-estimator input.sk-toggleable__control:checked~label.sk-toggleable__label {background-color: #d4ebff;}#sk-container-id-5 div.sk-label input.sk-toggleable__control:checked~label.sk-toggleable__label {background-color: #d4ebff;}#sk-container-id-5 input.sk-hidden--visually {border: 0;clip: rect(1px 1px 1px 1px);clip: rect(1px, 1px, 1px, 1px);height: 1px;margin: -1px;overflow: hidden;padding: 0;position: absolute;width: 1px;}#sk-container-id-5 div.sk-estimator {font-family: monospace;background-color: #f0f8ff;border: 1px dotted black;border-radius: 0.25em;box-sizing: border-box;margin-bottom: 0.5em;}#sk-container-id-5 div.sk-estimator:hover {background-color: #d4ebff;}#sk-container-id-5 div.sk-parallel-item::after {content: \"\";width: 100%;border-bottom: 1px solid gray;flex-grow: 1;}#sk-container-id-5 div.sk-label:hover label.sk-toggleable__label {background-color: #d4ebff;}#sk-container-id-5 div.sk-serial::before {content: \"\";position: absolute;border-left: 1px solid gray;box-sizing: border-box;top: 0;bottom: 0;left: 50%;z-index: 0;}#sk-container-id-5 div.sk-serial {display: flex;flex-direction: column;align-items: center;background-color: white;padding-right: 0.2em;padding-left: 0.2em;position: relative;}#sk-container-id-5 div.sk-item {position: relative;z-index: 1;}#sk-container-id-5 div.sk-parallel {display: flex;align-items: stretch;justify-content: center;background-color: white;position: relative;}#sk-container-id-5 div.sk-item::before, #sk-container-id-5 div.sk-parallel-item::before {content: \"\";position: absolute;border-left: 1px solid gray;box-sizing: border-box;top: 0;bottom: 0;left: 50%;z-index: -1;}#sk-container-id-5 div.sk-parallel-item {display: flex;flex-direction: column;z-index: 1;position: relative;background-color: white;}#sk-container-id-5 div.sk-parallel-item:first-child::after {align-self: flex-end;width: 50%;}#sk-container-id-5 div.sk-parallel-item:last-child::after {align-self: flex-start;width: 50%;}#sk-container-id-5 div.sk-parallel-item:only-child::after {width: 0;}#sk-container-id-5 div.sk-dashed-wrapped {border: 1px dashed gray;margin: 0 0.4em 0.5em 0.4em;box-sizing: border-box;padding-bottom: 0.4em;background-color: white;}#sk-container-id-5 div.sk-label label {font-family: monospace;font-weight: bold;display: inline-block;line-height: 1.2em;}#sk-container-id-5 div.sk-label-container {text-align: center;}#sk-container-id-5 div.sk-container {/* jupyter's `normalize.less` sets `[hidden] { display: none; }` but bootstrap.min.css set `[hidden] { display: none !important; }` so we also need the `!important` here to be able to override the default hidden behavior on the sphinx rendered scikit-learn.org. See: https://github.com/scikit-learn/scikit-learn/issues/21755 */display: inline-block !important;position: relative;}#sk-container-id-5 div.sk-text-repr-fallback {display: none;}</style><div id=\"sk-container-id-5\" class=\"sk-top-container\"><div class=\"sk-text-repr-fallback\"><pre>DecisionTreeClassifier(ccp_alpha=0.001, max_depth=7, random_state=1024,\n",
       "                       splitter=&#x27;random&#x27;)</pre><b>In a Jupyter environment, please rerun this cell to show the HTML representation or trust the notebook. <br />On GitHub, the HTML representation is unable to render, please try loading this page with nbviewer.org.</b></div><div class=\"sk-container\" hidden><div class=\"sk-item\"><div class=\"sk-estimator sk-toggleable\"><input class=\"sk-toggleable__control sk-hidden--visually\" id=\"sk-estimator-id-5\" type=\"checkbox\" checked><label for=\"sk-estimator-id-5\" class=\"sk-toggleable__label sk-toggleable__label-arrow\">DecisionTreeClassifier</label><div class=\"sk-toggleable__content\"><pre>DecisionTreeClassifier(ccp_alpha=0.001, max_depth=7, random_state=1024,\n",
       "                       splitter=&#x27;random&#x27;)</pre></div></div></div></div></div>"
      ],
      "text/plain": [
       "DecisionTreeClassifier(ccp_alpha=0.001, max_depth=7, random_state=1024,\n",
       "                       splitter='random')"
      ]
     },
     "execution_count": 28,
     "metadata": {},
     "output_type": "execute_result"
    },
    {
     "data": {
      "image/png": "[encoded data removed]",
      "text/plain": [
       "<Figure size 640x480 with 1 Axes>"
      ]
     },
     "metadata": {},
     "output_type": "display_data"
    }
   ],
   "source": [
    "train_df = read_grouped_data()\n",
    "train_df = change_txt_data(train_df)\n",
    "Y = train_df['feeling_rate'].values\n",
    "X = train_df.drop(['feeling_rate'], axis=1).values\n",
    "\n",
    "calculate_feeling_rate_distribution(train_df)\n",
    "\n",
    "X_train, X_test, Y_train, Y_test = train_test_split(X, Y, test_size=0.2, random_state=71830, stratify=Y)\n",
    "\n",
    "param_grid = {'ccp_alpha': [0, 0.1, .01, .001],\n",
    "              'max_depth' : [5, 6, 7, 8, 9, 10, None],\n",
    "              'criterion' :['gini', 'entropy'],\n",
    "              'splitter' : ['best', 'random'], \n",
    "              'class_weight' : [None, 'balanced']\n",
    "             }\n",
    "\n",
    "tree_clas = DecisionTreeClassifier(random_state=1024)\n",
    "grid_search = GridSearchCV(estimator=tree_clas, param_grid=param_grid, scoring='f1_micro', cv=5, verbose=True)\n",
    "grid_search.fit(X_train, Y_train)\n",
    "\n",
    "final_model = grid_search.best_estimator_\n",
    "final_model "
   ]
  },
  {
   "cell_type": "code",
   "execution_count": null,
   "id": "a52f1da1-6c77-40df-989a-3156aa66e76b",
   "metadata": {},
   "outputs": [],
   "source": []
  }
 ],
 "metadata": {
  "kernelspec": {
   "display_name": "Python 3 (ipykernel)",
   "language": "python",
   "name": "python3"
  },
  "language_info": {
   "codemirror_mode": {
    "name": "ipython",
    "version": 3
   },
   "file_extension": ".py",
   "mimetype": "text/x-python",
   "name": "python",
   "nbconvert_exporter": "python",
   "pygments_lexer": "ipython3",
   "version": "3.10.11"
  }
 },
 "nbformat": 4,
 "nbformat_minor": 5
}
